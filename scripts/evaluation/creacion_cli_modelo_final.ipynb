{
  "cells": [
    {
      "cell_type": "markdown",
      "metadata": {
        "id": "GoBmcwkeG1FP"
      },
      "source": [
        "creación del directorio para instalar el modelo"
      ]
    },
    {
      "cell_type": "code",
      "execution_count": null,
      "metadata": {
        "colab": {
          "base_uri": "https://localhost:8080/"
        },
        "id": "2r6axPSII5f7",
        "outputId": "51cb1636-c894-458a-fa76-b1f53289f2a8"
      },
      "outputs": [],
      "source": [
        "!mkdir src"
      ]
    },
    {
      "cell_type": "markdown",
      "metadata": {
        "id": "atBJXscOJtrB"
      },
      "source": [
        "Traer el modelo, se llama final_model y es la versión 1"
      ]
    },
    {
      "cell_type": "code",
      "execution_count": null,
      "metadata": {
        "colab": {
          "base_uri": "https://localhost:8080/",
          "height": 339
        },
        "id": "MiTcKJpBJP7l",
        "outputId": "ec1cd53d-1dc5-4e60-dca9-cc8c09102211"
      },
      "outputs": [],
      "source": [
        "model_name = 'final_model'\n",
        "model_version = 1\n",
        "model = mlflow.pyfunc.load_model(f\"models:/{model_name}/{model_version}\")\n",
        "display(model)"
      ]
    },
    {
      "cell_type": "markdown",
      "metadata": {
        "id": "kIaIkXJmKeDT"
      },
      "source": [
        "creación del script para la ejecución del modelo"
      ]
    },
    {
      "cell_type": "code",
      "execution_count": null,
      "metadata": {
        "id": "4hlO6rbtcKQB"
      },
      "outputs": [],
      "source": [
        "import shutil\n",
        "origen = \"/content/dataset/102 flower/cat_to_name.json\"\n",
        "destino = \"/content/src\"\n",
        "shutil.copy(origen, destino)"
      ]
    },
    {
      "cell_type": "code",
      "execution_count": null,
      "metadata": {
        "colab": {
          "base_uri": "https://localhost:8080/"
        },
        "id": "o3zkjxcILRG8",
        "outputId": "209116d3-5c14-4196-8107-d6146c052c5b"
      },
      "outputs": [],
      "source": [
        "%%writefile ./src/final_model.py\n",
        "from argparse import ArgumentParser\n",
        "import mlflow\n",
        "import tensorflow as tf\n",
        "import numpy as np\n",
        "import json\n",
        "import os\n",
        "\n",
        "mlflow.set_tracking_uri(\"http://localhost:5000\")\n",
        "model_name = 'final_model'\n",
        "model_version = 1\n",
        "model = mlflow.pyfunc.load_model(f\"models:/{model_name}/{model_version}\")\n",
        "c = [41, 43, 46, 51, 58, 73, 74, 75, 77, 78, 80, 81, 82, 83, 88, 89, 94, 95]\n",
        "ordered_to_id = {i: j for i, j in enumerate(c)}\n",
        "id_to_ordered = {j: i for i, j in ordered_to_id.items()}\n",
        "#path_cat = os.path.join(os.path.dirname(__file__), \"cat_to_name.json\")\n",
        "path_cat = \"/content/src/cat_to_name.json\"\n",
        "with open(path_cat) as r:\n",
        "  dict_flower = json.load(r)\n",
        "dict_flower = {int(key): value for key, value in dict_flower.items()}\n",
        "\n",
        "\n",
        "def preprocess_image(path_image):\n",
        "  img = tf.keras.preprocessing.image.load_img(\n",
        "      path_image, target_size = (224, 224, 3)\n",
        "  )\n",
        "  img = np.array([img])\n",
        "  return img\n",
        "\n",
        "def classify_image(path_image):\n",
        "  img = preprocess_image(path_image)\n",
        "  prediction = model.predict(img).argmax(axis=1)\n",
        "  return prediction\n",
        "\n",
        "def convert_id(value, via):\n",
        "  if via == 'to_id':\n",
        "    return ordered_to_id[value]\n",
        "  if via == 'to_ordered':\n",
        "    return id_to_ordered[value]\n",
        "\n",
        "def correct_classify(prediction):\n",
        "  correct_prediction = convert_id(prediction, \"to_id\")\n",
        "  pred_fl = dict_flower.get(correct_prediction, \"Flor no identificada\")\n",
        "  return pred_fl\n",
        "\n",
        "def main():\n",
        "  parser = ArgumentParser(\n",
        "      description = \"CLI para modelo de clasificación de flores\"\n",
        "  )\n",
        "  parser.add_argument(\n",
        "      \"--text\", type=str, required=True, help=\"Ruta de la imagen a clasificar\"\n",
        "  )\n",
        "  args = parser.parse_args()\n",
        "  prediction = classify_image(args.text)[0]\n",
        "  correct_pred = correct_classify(prediction)\n",
        "  print(f\"El tipo de flor en la imagen es: {correct_pred}\")\n",
        "\n",
        "if __name__ == \"__main__\":\n",
        "  main()"
      ]
    },
    {
      "cell_type": "code",
      "execution_count": null,
      "metadata": {
        "id": "IaAdqN8FUxrQ"
      },
      "outputs": [],
      "source": [
        "!python ./src/final_model.py --help"
      ]
    },
    {
      "cell_type": "code",
      "execution_count": null,
      "metadata": {
        "id": "qz2LbxXMWYEH"
      },
      "outputs": [],
      "source": [
        "!python ./src/final_model.py --text \"dataset/102 flower/flowers/test/51/image_01314.jpg\""
      ]
    },
    {
      "cell_type": "markdown",
      "metadata": {
        "id": "B-bqvCgwg_VB"
      },
      "source": [
        "crearemos el cli para poder instalar el script en el sistema"
      ]
    },
    {
      "cell_type": "code",
      "execution_count": null,
      "metadata": {
        "colab": {
          "base_uri": "https://localhost:8080/"
        },
        "id": "30P6Sa1EhK4C",
        "outputId": "46f7e585-f4ff-4bcf-c765-816a86d600e2"
      },
      "outputs": [],
      "source": [
        "%%writefile ./src/pyproject.toml\n",
        "[project]\n",
        "name = \"mlcli\"\n",
        "version = \"0.1.0\"\n",
        "description = \"CLI para la detección de tipo de flor por medio de imagen\"\n",
        "authors = [\n",
        "  {name=\"Diana Carolina Diaz Ortigoza\", email=\"dicdiazor@unal.edu.co\"},\n",
        "  {name=\"Julio Cesar Roa Davila\", email=\"jucroada@unal.edu.co\"},\n",
        "  {name=\"Jair Sebastian Saavedra Alvarado\", email=\"jssaavedraa@unal.edu.co\"},\n",
        "]\n",
        "dependencies = [\n",
        "  \"argparse >= 1.1\",\n",
        "  \"mlflow >= 2.13.0\",\n",
        "  \"tensorflow == 2.15.0\",\n",
        "  \"numpy >= 1.25.2\"\n",
        "]\n",
        "\n",
        "[build-system]\n",
        "requires = [\n",
        "  \"setuptools\", \"wheel\"\n",
        "]\n",
        "\n",
        "[project.scripts]\n",
        "pred_model = \"final_model:main\""
      ]
    },
    {
      "cell_type": "code",
      "execution_count": null,
      "metadata": {
        "colab": {
          "base_uri": "https://localhost:8080/",
          "height": 1000
        },
        "id": "nc5MPuoSlw2Z",
        "outputId": "ebcb1a17-394b-454a-df98-ca94a6be357f"
      },
      "outputs": [],
      "source": [
        "!pip install ./src/"
      ]
    },
    {
      "cell_type": "code",
      "execution_count": null,
      "metadata": {
        "colab": {
          "base_uri": "https://localhost:8080/"
        },
        "id": "aUfrTUhQnlgx",
        "outputId": "fd1b11d6-110a-46d7-b851-d6e79298b786"
      },
      "outputs": [
        {
          "name": "stdout",
          "output_type": "stream",
          "text": [
            "2024-05-29 04:53:20.247221: E external/local_xla/xla/stream_executor/cuda/cuda_dnn.cc:9261] Unable to register cuDNN factory: Attempting to register factory for plugin cuDNN when one has already been registered\n",
            "2024-05-29 04:53:20.247311: E external/local_xla/xla/stream_executor/cuda/cuda_fft.cc:607] Unable to register cuFFT factory: Attempting to register factory for plugin cuFFT when one has already been registered\n",
            "2024-05-29 04:53:20.249481: E external/local_xla/xla/stream_executor/cuda/cuda_blas.cc:1515] Unable to register cuBLAS factory: Attempting to register factory for plugin cuBLAS when one has already been registered\n",
            "2024-05-29 04:53:22.024897: W tensorflow/compiler/tf2tensorrt/utils/py_utils.cc:38] TF-TRT Warning: Could not find TensorRT\n",
            "WARNING:tensorflow:No training configuration found in save file, so the model was *not* compiled. Compile it manually.\n",
            "1/1 [==============================] - 0s 327ms/step\n",
            "El tipo de flor en la imagen es: frangipani\n"
          ]
        }
      ],
      "source": [
        "!pred_model --text \"dataset/102 flower/flowers/test/51/image_01314.jpg\""
      ]
    }
  ],
  "metadata": {
    "colab": {
      "provenance": []
    },
    "kernelspec": {
      "display_name": "Python 3",
      "name": "python3"
    },
    "language_info": {
      "name": "python"
    }
  },
  "nbformat": 4,
  "nbformat_minor": 0
}
